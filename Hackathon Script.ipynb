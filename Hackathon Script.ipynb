{
  "nbformat": 4,
  "nbformat_minor": 0,
  "metadata": {
    "colab": {
      "name": "Test Notebook",
      "version": "0.3.2",
      "provenance": [],
      "collapsed_sections": [],
      "toc_visible": true
    },
    "kernelspec": {
      "name": "python3",
      "display_name": "Python 3"
    }
  },
  "cells": [
    {
      "cell_type": "markdown",
      "metadata": {
        "id": "UGEP05APhmsF",
        "colab_type": "text"
      },
      "source": [
        "## Honour Code\n",
        "I Jonathan, Aspeling, confirm - by submitting my - that the solutions in this notebook are a result of my own work and that I abide by the EDSA honour code (https://drive.google.com/file/d/1QDCjGZJ8-FmJE3bZdIQNwnJyQKPhHZBn/view?usp=sharing).\n",
        "\n",
        "Non-compliance with the honour code constitutes a material breach of contract."
      ]
    },
    {
      "cell_type": "markdown",
      "metadata": {
        "id": "5kVVBtGuixC8",
        "colab_type": "text"
      },
      "source": [
        "# Importing Python Packages & Data\n",
        "\n"
      ]
    },
    {
      "cell_type": "markdown",
      "metadata": {
        "id": "RcTpe7dvi79j",
        "colab_type": "text"
      },
      "source": [
        "## Package Importing"
      ]
    },
    {
      "cell_type": "code",
      "metadata": {
        "id": "rPVTH3GdN64b",
        "colab_type": "code",
        "colab": {}
      },
      "source": [
        "# Draft Notebook to test Google Co Lab & To Participate in Zindi\n",
        "# Competition for the Xente Fraud transaction challange.\n",
        "\n",
        "import numpy as np\n",
        "import pandas as pd\n",
        "from google.colab import drive\n",
        "from google.colab import files\n",
        "from datetime import datetime as dt\n",
        "from sklearn.linear_model import LogisticRegression\n",
        "from sklearn.svm import SVC\n",
        "from sklearn.model_selection import GridSearchCV\n",
        "from sklearn.model_selection import train_test_split\n",
        "from sklearn.metrics import classification_report, accuracy_score, log_loss\n"
      ],
      "execution_count": 0,
      "outputs": []
    },
    {
      "cell_type": "markdown",
      "metadata": {
        "id": "Zz2w1Pi7jDuG",
        "colab_type": "text"
      },
      "source": [
        "##Mounting Google Drive "
      ]
    },
    {
      "cell_type": "code",
      "metadata": {
        "id": "jvZMgDduh2aT",
        "colab_type": "code",
        "colab": {}
      },
      "source": [
        "# # Run this cell to mount your Google Drive.\n",
        "# from google.colab import drive\n",
        "# drive.mount('/content/drive')"
      ],
      "execution_count": 0,
      "outputs": []
    },
    {
      "cell_type": "markdown",
      "metadata": {
        "id": "pH5KwgSljMDA",
        "colab_type": "text"
      },
      "source": [
        "##Importing Train & Test Data"
      ]
    },
    {
      "cell_type": "code",
      "metadata": {
        "id": "oSLtJ_0HTaQO",
        "colab_type": "code",
        "colab": {}
      },
      "source": [
        "# Importing Test & Training Data as Pandas Dataframe\n",
        "train_df = pd.read_csv('/content/drive/My Drive/EDSA 2019/Data Science Academy /ML - Classification/Xente Transaction Fraud/Files/training.csv')\n",
        "test_df = pd.read_csv('/content/drive/My Drive/EDSA 2019/Data Science Academy /ML - Classification/Xente Transaction Fraud/Files/test (1).csv')"
      ],
      "execution_count": 0,
      "outputs": []
    },
    {
      "cell_type": "markdown",
      "metadata": {
        "id": "va0RRs1WjSNW",
        "colab_type": "text"
      },
      "source": [
        "#Data Exploration"
      ]
    },
    {
      "cell_type": "code",
      "metadata": {
        "id": "UwqaPYKArt1G",
        "colab_type": "code",
        "outputId": "929851f0-3895-4ac6-e690-0978361963d6",
        "colab": {
          "base_uri": "https://localhost:8080/"
        }
      },
      "source": [
        "#Test if there are any Null values in the dataframes\n",
        "train_df.isnull().values.any()\n",
        "test_df.isnull().values.any()"
      ],
      "execution_count": 0,
      "outputs": [
        {
          "output_type": "execute_result",
          "data": {
            "text/plain": [
              "False"
            ]
          },
          "metadata": {
            "tags": []
          },
          "execution_count": 898
        }
      ]
    },
    {
      "cell_type": "code",
      "metadata": {
        "id": "Qr8X6m8xUFzj",
        "colab_type": "code",
        "outputId": "303d7670-360f-427c-adc1-6533f80126b1",
        "colab": {
          "base_uri": "https://localhost:8080/"
        }
      },
      "source": [
        "test_df.info()"
      ],
      "execution_count": 0,
      "outputs": [
        {
          "output_type": "stream",
          "text": [
            "<class 'pandas.core.frame.DataFrame'>\n",
            "RangeIndex: 45019 entries, 0 to 45018\n",
            "Data columns (total 15 columns):\n",
            "TransactionId           45019 non-null object\n",
            "BatchId                 45019 non-null object\n",
            "AccountId               45019 non-null object\n",
            "SubscriptionId          45019 non-null object\n",
            "CustomerId              45019 non-null object\n",
            "CurrencyCode            45019 non-null object\n",
            "CountryCode             45019 non-null int64\n",
            "ProviderId              45019 non-null object\n",
            "ProductId               45019 non-null object\n",
            "ProductCategory         45019 non-null object\n",
            "ChannelId               45019 non-null object\n",
            "Amount                  45019 non-null float64\n",
            "Value                   45019 non-null int64\n",
            "TransactionStartTime    45019 non-null object\n",
            "PricingStrategy         45019 non-null int64\n",
            "dtypes: float64(1), int64(3), object(11)\n",
            "memory usage: 5.2+ MB\n"
          ],
          "name": "stdout"
        }
      ]
    },
    {
      "cell_type": "code",
      "metadata": {
        "id": "aF2DEH7QULCK",
        "colab_type": "code",
        "outputId": "3d6d0b91-061e-4add-a569-7afe0fc4bc43",
        "colab": {
          "base_uri": "https://localhost:8080/"
        }
      },
      "source": [
        "train_df.info()"
      ],
      "execution_count": 0,
      "outputs": [
        {
          "output_type": "stream",
          "text": [
            "<class 'pandas.core.frame.DataFrame'>\n",
            "RangeIndex: 95662 entries, 0 to 95661\n",
            "Data columns (total 16 columns):\n",
            "TransactionId           95662 non-null object\n",
            "BatchId                 95662 non-null object\n",
            "AccountId               95662 non-null object\n",
            "SubscriptionId          95662 non-null object\n",
            "CustomerId              95662 non-null object\n",
            "CurrencyCode            95662 non-null object\n",
            "CountryCode             95662 non-null int64\n",
            "ProviderId              95662 non-null object\n",
            "ProductId               95662 non-null object\n",
            "ProductCategory         95662 non-null object\n",
            "ChannelId               95662 non-null object\n",
            "Amount                  95662 non-null float64\n",
            "Value                   95662 non-null int64\n",
            "TransactionStartTime    95662 non-null object\n",
            "PricingStrategy         95662 non-null int64\n",
            "FraudResult             95662 non-null int64\n",
            "dtypes: float64(1), int64(4), object(11)\n",
            "memory usage: 11.7+ MB\n"
          ],
          "name": "stdout"
        }
      ]
    },
    {
      "cell_type": "code",
      "metadata": {
        "id": "YevktIC1XNfp",
        "colab_type": "code",
        "outputId": "05ddfb39-e102-4319-a234-0f58201bffaf",
        "colab": {
          "base_uri": "https://localhost:8080/"
        }
      },
      "source": [
        "# Testing that all TestBatchID start with BatchID_\n",
        "train_df['testBatchID'] = train_df['BatchId'].apply\\\n",
        "(lambda x: False if x[0:8] ==\"BatchId_\" else True)\n",
        "\n",
        "print(train_df['testBatchID'].sum())\n",
        "train_df.drop(['testBatchID'],axis=1,inplace=True)\n",
        "\n",
        "# Testing that all Account ID start with AccountId_\n",
        "train_df['testBatchID2'] = train_df['AccountId'].apply\\\n",
        "(lambda x: False if x[0:len('AccountId_')] ==\"AccountId_\" else True)\n",
        "\n",
        "print(train_df['testBatchID2'].sum())\n",
        "train_df.drop(['testBatchID2'],axis=1,inplace=True)\n",
        "\n",
        "# Testing that all Subscription Id start with SubscriptionId_\n",
        "train_df['testBatchID2'] = train_df['SubscriptionId'].apply\\\n",
        "(lambda x: False if x[0:len('SubscriptionId_')] ==\"SubscriptionId_\" else True)\n",
        "\n",
        "print(train_df['testBatchID2'].sum())\n",
        "train_df.drop(['testBatchID2'],axis=1,inplace=True)\n",
        "\n",
        "# Testing that all Customer Id start with CustomerId_\n",
        "train_df['testBatchID2'] = train_df['CustomerId'].apply\\\n",
        "(lambda x: False if x[0:len('CustomerId_')] ==\"CustomerId_\" else True)\n",
        "\n",
        "print(train_df['testBatchID2'].sum())\n",
        "train_df.drop(['testBatchID2'],axis=1,inplace=True)\n",
        "\n",
        "# Testing that all Provider Id start with ProviderId_\n",
        "train_df['testBatchID2'] = train_df['ProviderId'].apply\\\n",
        "(lambda x: False if x[0:len('ProviderId_')] ==\"ProviderId_\" else True)\n",
        "\n",
        "print(train_df['testBatchID2'].sum())\n",
        "train_df.drop(['testBatchID2'],axis=1,inplace=True)\n",
        "\n",
        "# Testing that all Product Id start with ProductId_\n",
        "train_df['testBatchID2'] = train_df['ProductId'].apply\\\n",
        "(lambda x: False if x[0:len('ProductId_')] ==\"ProductId_\" else True)\n",
        "\n",
        "print(train_df['testBatchID2'].sum())\n",
        "train_df.drop(['testBatchID2'],axis=1,inplace=True)\n",
        "\n",
        "# Testing that all Channel Id start with ChannelId_\n",
        "train_df['testBatchID2'] = train_df['ChannelId'].apply\\\n",
        "(lambda x: False if x[0:len('ChannelId_')] ==\"ChannelId_\" else True)\n",
        "\n",
        "print(train_df['testBatchID2'].sum())\n",
        "train_df.drop(['testBatchID2'],axis=1,inplace=True)\n",
        "\n"
      ],
      "execution_count": 0,
      "outputs": [
        {
          "output_type": "stream",
          "text": [
            "0\n",
            "0\n",
            "0\n",
            "0\n",
            "0\n",
            "0\n",
            "0\n"
          ],
          "name": "stdout"
        }
      ]
    },
    {
      "cell_type": "code",
      "metadata": {
        "id": "WtYJfC17wW_c",
        "colab_type": "code",
        "outputId": "3ff7ab91-3ace-4777-8b61-172b86eb23ff",
        "colab": {
          "base_uri": "https://localhost:8080/"
        }
      },
      "source": [
        "# Date Time Exploring\n",
        "train_df['TransactionStartTime'].head()"
      ],
      "execution_count": 0,
      "outputs": [
        {
          "output_type": "execute_result",
          "data": {
            "text/plain": [
              "0    2018-11-15T02:18:49Z\n",
              "1    2018-11-15T02:19:08Z\n",
              "2    2018-11-15T02:44:21Z\n",
              "3    2018-11-15T03:32:55Z\n",
              "4    2018-11-15T03:34:21Z\n",
              "Name: TransactionStartTime, dtype: object"
            ]
          },
          "metadata": {
            "tags": []
          },
          "execution_count": 902
        }
      ]
    },
    {
      "cell_type": "markdown",
      "metadata": {
        "id": "Y8m80eM7jrf6",
        "colab_type": "text"
      },
      "source": [
        "#Pre Processing"
      ]
    },
    {
      "cell_type": "code",
      "metadata": {
        "id": "RtwU6IJXVctx",
        "colab_type": "code",
        "outputId": "fb614d1d-919b-4484-fb61-b85223298ad9",
        "colab": {
          "base_uri": "https://localhost:8080/",
          "height": 224
        }
      },
      "source": [
        "# Converting Transaction ID to purely Transaction ID Number\n",
        "def string2blank(df,column,string_2_replace):\n",
        "  \n",
        "  df[column] = df[column].apply(lambda s : s.replace(string_2_replace,''))\n",
        "  df[column] = df[column].astype('int64')\n",
        "  \n",
        "\n",
        "  pass \n",
        "  \n",
        "\n",
        "train_df.head()\n",
        "#FOR INVESTIGATION - Why does string2blank work but not the following function?\n",
        "\n",
        "# def string2blank1(df_and_column,string_2_replace):\n",
        "  \n",
        "  \n",
        "#   df_and_column = df_and_column.apply(lambda s : s.replace(string_2_replace,''))\n",
        "#   df_and_column = df_and_column.astype('int64')\n",
        "  \n",
        "#   pass"
      ],
      "execution_count": 0,
      "outputs": [
        {
          "output_type": "execute_result",
          "data": {
            "text/html": [
              "<div>\n",
              "<style scoped>\n",
              "    .dataframe tbody tr th:only-of-type {\n",
              "        vertical-align: middle;\n",
              "    }\n",
              "\n",
              "    .dataframe tbody tr th {\n",
              "        vertical-align: top;\n",
              "    }\n",
              "\n",
              "    .dataframe thead th {\n",
              "        text-align: right;\n",
              "    }\n",
              "</style>\n",
              "<table border=\"1\" class=\"dataframe\">\n",
              "  <thead>\n",
              "    <tr style=\"text-align: right;\">\n",
              "      <th></th>\n",
              "      <th>TransactionId</th>\n",
              "      <th>BatchId</th>\n",
              "      <th>AccountId</th>\n",
              "      <th>SubscriptionId</th>\n",
              "      <th>CustomerId</th>\n",
              "      <th>CurrencyCode</th>\n",
              "      <th>CountryCode</th>\n",
              "      <th>ProviderId</th>\n",
              "      <th>ProductId</th>\n",
              "      <th>ProductCategory</th>\n",
              "      <th>ChannelId</th>\n",
              "      <th>Amount</th>\n",
              "      <th>Value</th>\n",
              "      <th>TransactionStartTime</th>\n",
              "      <th>PricingStrategy</th>\n",
              "      <th>FraudResult</th>\n",
              "    </tr>\n",
              "  </thead>\n",
              "  <tbody>\n",
              "    <tr>\n",
              "      <th>0</th>\n",
              "      <td>TransactionId_76871</td>\n",
              "      <td>BatchId_36123</td>\n",
              "      <td>AccountId_3957</td>\n",
              "      <td>SubscriptionId_887</td>\n",
              "      <td>CustomerId_4406</td>\n",
              "      <td>UGX</td>\n",
              "      <td>256</td>\n",
              "      <td>ProviderId_6</td>\n",
              "      <td>ProductId_10</td>\n",
              "      <td>airtime</td>\n",
              "      <td>ChannelId_3</td>\n",
              "      <td>1000.0</td>\n",
              "      <td>1000</td>\n",
              "      <td>2018-11-15T02:18:49Z</td>\n",
              "      <td>2</td>\n",
              "      <td>0</td>\n",
              "    </tr>\n",
              "    <tr>\n",
              "      <th>1</th>\n",
              "      <td>TransactionId_73770</td>\n",
              "      <td>BatchId_15642</td>\n",
              "      <td>AccountId_4841</td>\n",
              "      <td>SubscriptionId_3829</td>\n",
              "      <td>CustomerId_4406</td>\n",
              "      <td>UGX</td>\n",
              "      <td>256</td>\n",
              "      <td>ProviderId_4</td>\n",
              "      <td>ProductId_6</td>\n",
              "      <td>financial_services</td>\n",
              "      <td>ChannelId_2</td>\n",
              "      <td>-20.0</td>\n",
              "      <td>20</td>\n",
              "      <td>2018-11-15T02:19:08Z</td>\n",
              "      <td>2</td>\n",
              "      <td>0</td>\n",
              "    </tr>\n",
              "    <tr>\n",
              "      <th>2</th>\n",
              "      <td>TransactionId_26203</td>\n",
              "      <td>BatchId_53941</td>\n",
              "      <td>AccountId_4229</td>\n",
              "      <td>SubscriptionId_222</td>\n",
              "      <td>CustomerId_4683</td>\n",
              "      <td>UGX</td>\n",
              "      <td>256</td>\n",
              "      <td>ProviderId_6</td>\n",
              "      <td>ProductId_1</td>\n",
              "      <td>airtime</td>\n",
              "      <td>ChannelId_3</td>\n",
              "      <td>500.0</td>\n",
              "      <td>500</td>\n",
              "      <td>2018-11-15T02:44:21Z</td>\n",
              "      <td>2</td>\n",
              "      <td>0</td>\n",
              "    </tr>\n",
              "    <tr>\n",
              "      <th>3</th>\n",
              "      <td>TransactionId_380</td>\n",
              "      <td>BatchId_102363</td>\n",
              "      <td>AccountId_648</td>\n",
              "      <td>SubscriptionId_2185</td>\n",
              "      <td>CustomerId_988</td>\n",
              "      <td>UGX</td>\n",
              "      <td>256</td>\n",
              "      <td>ProviderId_1</td>\n",
              "      <td>ProductId_21</td>\n",
              "      <td>utility_bill</td>\n",
              "      <td>ChannelId_3</td>\n",
              "      <td>20000.0</td>\n",
              "      <td>21800</td>\n",
              "      <td>2018-11-15T03:32:55Z</td>\n",
              "      <td>2</td>\n",
              "      <td>0</td>\n",
              "    </tr>\n",
              "    <tr>\n",
              "      <th>4</th>\n",
              "      <td>TransactionId_28195</td>\n",
              "      <td>BatchId_38780</td>\n",
              "      <td>AccountId_4841</td>\n",
              "      <td>SubscriptionId_3829</td>\n",
              "      <td>CustomerId_988</td>\n",
              "      <td>UGX</td>\n",
              "      <td>256</td>\n",
              "      <td>ProviderId_4</td>\n",
              "      <td>ProductId_6</td>\n",
              "      <td>financial_services</td>\n",
              "      <td>ChannelId_2</td>\n",
              "      <td>-644.0</td>\n",
              "      <td>644</td>\n",
              "      <td>2018-11-15T03:34:21Z</td>\n",
              "      <td>2</td>\n",
              "      <td>0</td>\n",
              "    </tr>\n",
              "  </tbody>\n",
              "</table>\n",
              "</div>"
            ],
            "text/plain": [
              "         TransactionId         BatchId  ... PricingStrategy FraudResult\n",
              "0  TransactionId_76871   BatchId_36123  ...               2           0\n",
              "1  TransactionId_73770   BatchId_15642  ...               2           0\n",
              "2  TransactionId_26203   BatchId_53941  ...               2           0\n",
              "3    TransactionId_380  BatchId_102363  ...               2           0\n",
              "4  TransactionId_28195   BatchId_38780  ...               2           0\n",
              "\n",
              "[5 rows x 16 columns]"
            ]
          },
          "metadata": {
            "tags": []
          },
          "execution_count": 903
        }
      ]
    },
    {
      "cell_type": "code",
      "metadata": {
        "id": "m9Zm9WMPbpOx",
        "colab_type": "code",
        "colab": {}
      },
      "source": [
        "#replace text strings with numeric values:\n",
        "\n",
        "string2blank(train_df,'BatchId','BatchId_')\n",
        "string2blank(train_df,'AccountId','AccountId_')\n",
        "string2blank(train_df,'SubscriptionId','SubscriptionId_')\n",
        "string2blank(train_df,'CustomerId','CustomerId_')\n",
        "\n"
      ],
      "execution_count": 0,
      "outputs": []
    },
    {
      "cell_type": "code",
      "metadata": {
        "id": "31GfeIiSquoJ",
        "colab_type": "code",
        "colab": {}
      },
      "source": [
        "#Dropping the following fields as they are all identical for the records. \n",
        "train_df.drop(train_df[['CurrencyCode','CountryCode']],axis=1,inplace=True)"
      ],
      "execution_count": 0,
      "outputs": []
    },
    {
      "cell_type": "code",
      "metadata": {
        "id": "dwPJ_mRurUpe",
        "colab_type": "code",
        "colab": {}
      },
      "source": [
        "#Get Dummies for Provider ID, Product ID, Product Catagory,Channel ID, Pricing Stratagy\n",
        "train_df_dummies = pd.get_dummies(train_df[['ProviderId','ProductId','ProductCategory','ChannelId','PricingStrategy']],prefix='dm',dtype=int)"
      ],
      "execution_count": 0,
      "outputs": []
    },
    {
      "cell_type": "code",
      "metadata": {
        "id": "ieplmlFetnhy",
        "colab_type": "code",
        "colab": {}
      },
      "source": [
        "train_df = train_df.join(train_df_dummies,how='left',lsuffix='d')"
      ],
      "execution_count": 0,
      "outputs": []
    },
    {
      "cell_type": "code",
      "metadata": {
        "id": "K0oN829y9Yfh",
        "colab_type": "code",
        "colab": {}
      },
      "source": [
        "# Add features not present in training data that are in testing data\n",
        "train_df['df_ProductId_17'] = 0\n",
        "train_df['df_ProductId_18'] = 0\n",
        "train_df['df_ProductId_25'] = 0\n",
        "train_df['df_ProductId_26'] = 0"
      ],
      "execution_count": 0,
      "outputs": []
    },
    {
      "cell_type": "code",
      "metadata": {
        "id": "PT9iitIpulWO",
        "colab_type": "code",
        "colab": {}
      },
      "source": [
        "# Drop columns converted to Dummies\n",
        "train_df.drop(train_df[['ProviderId','ProductId','ProductCategory','ChannelId','PricingStrategy']],axis=1,inplace=True)"
      ],
      "execution_count": 0,
      "outputs": []
    },
    {
      "cell_type": "code",
      "metadata": {
        "id": "_E6HWA_DvgGp",
        "colab_type": "code",
        "colab": {}
      },
      "source": [
        "# Dropping Transaction ID, BatchID Due to lack of relevance.\n",
        "train_df.drop(train_df[['TransactionId','BatchId']],axis=1,inplace=True)"
      ],
      "execution_count": 0,
      "outputs": []
    },
    {
      "cell_type": "code",
      "metadata": {
        "id": "AUyHd_y1xKno",
        "colab_type": "code",
        "colab": {}
      },
      "source": [
        "# Converting Date String to Date & Time series\n",
        "\n",
        "train_df['date'] = train_df['TransactionStartTime'].apply(lambda x: dt.strptime(x[0:10],'%Y-%m-%d') )\n",
        "train_df['time'] = train_df['TransactionStartTime'].apply(lambda x: dt.strptime(x[-9:-2],'%H:%M:%S') )"
      ],
      "execution_count": 0,
      "outputs": []
    },
    {
      "cell_type": "code",
      "metadata": {
        "id": "aNn9C1U-mPwW",
        "colab_type": "code",
        "colab": {}
      },
      "source": [
        "#Create Day of Week Field\n",
        "train_df['weekday'] = train_df['date'].apply(lambda x: dt.weekday(x))"
      ],
      "execution_count": 0,
      "outputs": []
    },
    {
      "cell_type": "code",
      "metadata": {
        "id": "rheoNcoCyCkQ",
        "colab_type": "code",
        "colab": {}
      },
      "source": [
        "# Drop String Transaction Start Time\n",
        "train_df.drop(train_df[['TransactionStartTime']],axis=1,inplace=True)"
      ],
      "execution_count": 0,
      "outputs": []
    },
    {
      "cell_type": "code",
      "metadata": {
        "id": "C8JJSGP70YwP",
        "colab_type": "code",
        "colab": {}
      },
      "source": [
        "# Isolating Records with Fraud & Non Fraud Transactions\n",
        "fraud_train_df = train_df[train_df['FraudResult']==1].copy()\n",
        "Nonfraud_train_df = train_df[train_df['FraudResult']==0].copy()\n",
        "\n",
        "# Selecting a random amount of records from the non fraud Dataframe\n",
        "Nonfraud_train_df = Nonfraud_train_df.sample(n=193*47,random_state=24)\n",
        "\n",
        "# Combining Non Fraud sample & Fraud transactions. \n",
        "Sample_df = fraud_train_df.append(Nonfraud_train_df, ignore_index=True)"
      ],
      "execution_count": 0,
      "outputs": []
    },
    {
      "cell_type": "code",
      "metadata": {
        "id": "W4reXD9nzV4J",
        "colab_type": "code",
        "colab": {}
      },
      "source": [
        "# X & y Split\n",
        "X = Sample_df.copy()\n",
        "y = Sample_df[['FraudResult']]\n",
        "X.drop(X[['FraudResult','date','time']],axis=1,inplace=True)\n"
      ],
      "execution_count": 0,
      "outputs": []
    },
    {
      "cell_type": "markdown",
      "metadata": {
        "id": "3YjXJqdC5PYQ",
        "colab_type": "text"
      },
      "source": [
        "# Model Building"
      ]
    },
    {
      "cell_type": "markdown",
      "metadata": {
        "id": "jl2sI28SE0Gm",
        "colab_type": "text"
      },
      "source": [
        "## Linear Regression"
      ]
    },
    {
      "cell_type": "code",
      "metadata": {
        "id": "jE6KU2494VBI",
        "colab_type": "code",
        "outputId": "61a47b95-ae44-4c18-e72a-8189fe32dd66",
        "colab": {
          "base_uri": "https://localhost:8080/",
          "height": 71
        }
      },
      "source": [
        "# get training and testing data \n",
        "X_train, X_test, y_train, y_test = train_test_split(X, y, test_size=0.25, random_state=24)\n",
        "# define the model \n",
        "logistic_reg = LogisticRegression(C=np.inf, solver='lbfgs')\n",
        "# fit the model \n",
        "logistic_reg.fit(X_train, y_train)\n",
        "# get predictions on the test set \n",
        "y_hat = logistic_reg.predict_proba(X_test)\n"
      ],
      "execution_count": 0,
      "outputs": [
        {
          "output_type": "stream",
          "text": [
            "/usr/local/lib/python3.6/dist-packages/sklearn/utils/validation.py:724: DataConversionWarning: A column-vector y was passed when a 1d array was expected. Please change the shape of y to (n_samples, ), for example using ravel().\n",
            "  y = column_or_1d(y, warn=True)\n"
          ],
          "name": "stderr"
        }
      ]
    },
    {
      "cell_type": "code",
      "metadata": {
        "id": "hnSrq85v474y",
        "colab_type": "code",
        "outputId": "351fec60-8959-4d0f-ed93-3036485ff609",
        "colab": {
          "base_uri": "https://localhost:8080/",
          "height": 34
        }
      },
      "source": [
        "y_hat = logistic_reg.predict(X_test)\n",
        "print(\"The accuracy for our model is: \", accuracy_score(y_test, y_hat))\n"
      ],
      "execution_count": 0,
      "outputs": [
        {
          "output_type": "stream",
          "text": [
            "The accuracy for our model is:  0.9956822107081175\n"
          ],
          "name": "stdout"
        }
      ]
    },
    {
      "cell_type": "markdown",
      "metadata": {
        "id": "BPUDKjctE7UY",
        "colab_type": "text"
      },
      "source": [
        "## SVM & Gridsearch"
      ]
    },
    {
      "cell_type": "code",
      "metadata": {
        "id": "ddhaAfK1E9Y5",
        "colab_type": "code",
        "outputId": "f6c7aa0b-4b41-4889-cd57-afe89d0f02f7",
        "colab": {
          "base_uri": "https://localhost:8080/",
          "height": 1000
        }
      },
      "source": [
        "svm = SVC(probability=True)\n",
        "params = {'C': [1.0, 0.001, 0.01],\n",
        "          'gamma': ['auto', 'scale', 1.0, 0.001, 0.01]}\n",
        "clf_mind = GridSearchCV(estimator=svm, param_grid=params)\n",
        "clf_mind.fit(X_train, y_train)"
      ],
      "execution_count": 0,
      "outputs": [
        {
          "output_type": "stream",
          "text": [
            "/usr/local/lib/python3.6/dist-packages/sklearn/model_selection/_split.py:1978: FutureWarning: The default value of cv will change from 3 to 5 in version 0.22. Specify it explicitly to silence this warning.\n",
            "  warnings.warn(CV_WARNING, FutureWarning)\n",
            "/usr/local/lib/python3.6/dist-packages/sklearn/utils/validation.py:724: DataConversionWarning: A column-vector y was passed when a 1d array was expected. Please change the shape of y to (n_samples, ), for example using ravel().\n",
            "  y = column_or_1d(y, warn=True)\n",
            "/usr/local/lib/python3.6/dist-packages/sklearn/utils/validation.py:724: DataConversionWarning: A column-vector y was passed when a 1d array was expected. Please change the shape of y to (n_samples, ), for example using ravel().\n",
            "  y = column_or_1d(y, warn=True)\n",
            "/usr/local/lib/python3.6/dist-packages/sklearn/utils/validation.py:724: DataConversionWarning: A column-vector y was passed when a 1d array was expected. Please change the shape of y to (n_samples, ), for example using ravel().\n",
            "  y = column_or_1d(y, warn=True)\n",
            "/usr/local/lib/python3.6/dist-packages/sklearn/utils/validation.py:724: DataConversionWarning: A column-vector y was passed when a 1d array was expected. Please change the shape of y to (n_samples, ), for example using ravel().\n",
            "  y = column_or_1d(y, warn=True)\n",
            "/usr/local/lib/python3.6/dist-packages/sklearn/utils/validation.py:724: DataConversionWarning: A column-vector y was passed when a 1d array was expected. Please change the shape of y to (n_samples, ), for example using ravel().\n",
            "  y = column_or_1d(y, warn=True)\n",
            "/usr/local/lib/python3.6/dist-packages/sklearn/utils/validation.py:724: DataConversionWarning: A column-vector y was passed when a 1d array was expected. Please change the shape of y to (n_samples, ), for example using ravel().\n",
            "  y = column_or_1d(y, warn=True)\n",
            "/usr/local/lib/python3.6/dist-packages/sklearn/utils/validation.py:724: DataConversionWarning: A column-vector y was passed when a 1d array was expected. Please change the shape of y to (n_samples, ), for example using ravel().\n",
            "  y = column_or_1d(y, warn=True)\n",
            "/usr/local/lib/python3.6/dist-packages/sklearn/utils/validation.py:724: DataConversionWarning: A column-vector y was passed when a 1d array was expected. Please change the shape of y to (n_samples, ), for example using ravel().\n",
            "  y = column_or_1d(y, warn=True)\n",
            "/usr/local/lib/python3.6/dist-packages/sklearn/utils/validation.py:724: DataConversionWarning: A column-vector y was passed when a 1d array was expected. Please change the shape of y to (n_samples, ), for example using ravel().\n",
            "  y = column_or_1d(y, warn=True)\n",
            "/usr/local/lib/python3.6/dist-packages/sklearn/utils/validation.py:724: DataConversionWarning: A column-vector y was passed when a 1d array was expected. Please change the shape of y to (n_samples, ), for example using ravel().\n",
            "  y = column_or_1d(y, warn=True)\n",
            "/usr/local/lib/python3.6/dist-packages/sklearn/utils/validation.py:724: DataConversionWarning: A column-vector y was passed when a 1d array was expected. Please change the shape of y to (n_samples, ), for example using ravel().\n",
            "  y = column_or_1d(y, warn=True)\n",
            "/usr/local/lib/python3.6/dist-packages/sklearn/utils/validation.py:724: DataConversionWarning: A column-vector y was passed when a 1d array was expected. Please change the shape of y to (n_samples, ), for example using ravel().\n",
            "  y = column_or_1d(y, warn=True)\n",
            "/usr/local/lib/python3.6/dist-packages/sklearn/utils/validation.py:724: DataConversionWarning: A column-vector y was passed when a 1d array was expected. Please change the shape of y to (n_samples, ), for example using ravel().\n",
            "  y = column_or_1d(y, warn=True)\n",
            "/usr/local/lib/python3.6/dist-packages/sklearn/utils/validation.py:724: DataConversionWarning: A column-vector y was passed when a 1d array was expected. Please change the shape of y to (n_samples, ), for example using ravel().\n",
            "  y = column_or_1d(y, warn=True)\n",
            "/usr/local/lib/python3.6/dist-packages/sklearn/utils/validation.py:724: DataConversionWarning: A column-vector y was passed when a 1d array was expected. Please change the shape of y to (n_samples, ), for example using ravel().\n",
            "  y = column_or_1d(y, warn=True)\n",
            "/usr/local/lib/python3.6/dist-packages/sklearn/utils/validation.py:724: DataConversionWarning: A column-vector y was passed when a 1d array was expected. Please change the shape of y to (n_samples, ), for example using ravel().\n",
            "  y = column_or_1d(y, warn=True)\n",
            "/usr/local/lib/python3.6/dist-packages/sklearn/utils/validation.py:724: DataConversionWarning: A column-vector y was passed when a 1d array was expected. Please change the shape of y to (n_samples, ), for example using ravel().\n",
            "  y = column_or_1d(y, warn=True)\n",
            "/usr/local/lib/python3.6/dist-packages/sklearn/utils/validation.py:724: DataConversionWarning: A column-vector y was passed when a 1d array was expected. Please change the shape of y to (n_samples, ), for example using ravel().\n",
            "  y = column_or_1d(y, warn=True)\n",
            "/usr/local/lib/python3.6/dist-packages/sklearn/utils/validation.py:724: DataConversionWarning: A column-vector y was passed when a 1d array was expected. Please change the shape of y to (n_samples, ), for example using ravel().\n",
            "  y = column_or_1d(y, warn=True)\n",
            "/usr/local/lib/python3.6/dist-packages/sklearn/utils/validation.py:724: DataConversionWarning: A column-vector y was passed when a 1d array was expected. Please change the shape of y to (n_samples, ), for example using ravel().\n",
            "  y = column_or_1d(y, warn=True)\n",
            "/usr/local/lib/python3.6/dist-packages/sklearn/utils/validation.py:724: DataConversionWarning: A column-vector y was passed when a 1d array was expected. Please change the shape of y to (n_samples, ), for example using ravel().\n",
            "  y = column_or_1d(y, warn=True)\n",
            "/usr/local/lib/python3.6/dist-packages/sklearn/utils/validation.py:724: DataConversionWarning: A column-vector y was passed when a 1d array was expected. Please change the shape of y to (n_samples, ), for example using ravel().\n",
            "  y = column_or_1d(y, warn=True)\n",
            "/usr/local/lib/python3.6/dist-packages/sklearn/utils/validation.py:724: DataConversionWarning: A column-vector y was passed when a 1d array was expected. Please change the shape of y to (n_samples, ), for example using ravel().\n",
            "  y = column_or_1d(y, warn=True)\n",
            "/usr/local/lib/python3.6/dist-packages/sklearn/utils/validation.py:724: DataConversionWarning: A column-vector y was passed when a 1d array was expected. Please change the shape of y to (n_samples, ), for example using ravel().\n",
            "  y = column_or_1d(y, warn=True)\n",
            "/usr/local/lib/python3.6/dist-packages/sklearn/utils/validation.py:724: DataConversionWarning: A column-vector y was passed when a 1d array was expected. Please change the shape of y to (n_samples, ), for example using ravel().\n",
            "  y = column_or_1d(y, warn=True)\n",
            "/usr/local/lib/python3.6/dist-packages/sklearn/utils/validation.py:724: DataConversionWarning: A column-vector y was passed when a 1d array was expected. Please change the shape of y to (n_samples, ), for example using ravel().\n",
            "  y = column_or_1d(y, warn=True)\n",
            "/usr/local/lib/python3.6/dist-packages/sklearn/utils/validation.py:724: DataConversionWarning: A column-vector y was passed when a 1d array was expected. Please change the shape of y to (n_samples, ), for example using ravel().\n",
            "  y = column_or_1d(y, warn=True)\n",
            "/usr/local/lib/python3.6/dist-packages/sklearn/utils/validation.py:724: DataConversionWarning: A column-vector y was passed when a 1d array was expected. Please change the shape of y to (n_samples, ), for example using ravel().\n",
            "  y = column_or_1d(y, warn=True)\n",
            "/usr/local/lib/python3.6/dist-packages/sklearn/utils/validation.py:724: DataConversionWarning: A column-vector y was passed when a 1d array was expected. Please change the shape of y to (n_samples, ), for example using ravel().\n",
            "  y = column_or_1d(y, warn=True)\n",
            "/usr/local/lib/python3.6/dist-packages/sklearn/utils/validation.py:724: DataConversionWarning: A column-vector y was passed when a 1d array was expected. Please change the shape of y to (n_samples, ), for example using ravel().\n",
            "  y = column_or_1d(y, warn=True)\n",
            "/usr/local/lib/python3.6/dist-packages/sklearn/utils/validation.py:724: DataConversionWarning: A column-vector y was passed when a 1d array was expected. Please change the shape of y to (n_samples, ), for example using ravel().\n",
            "  y = column_or_1d(y, warn=True)\n",
            "/usr/local/lib/python3.6/dist-packages/sklearn/utils/validation.py:724: DataConversionWarning: A column-vector y was passed when a 1d array was expected. Please change the shape of y to (n_samples, ), for example using ravel().\n",
            "  y = column_or_1d(y, warn=True)\n",
            "/usr/local/lib/python3.6/dist-packages/sklearn/utils/validation.py:724: DataConversionWarning: A column-vector y was passed when a 1d array was expected. Please change the shape of y to (n_samples, ), for example using ravel().\n",
            "  y = column_or_1d(y, warn=True)\n",
            "/usr/local/lib/python3.6/dist-packages/sklearn/utils/validation.py:724: DataConversionWarning: A column-vector y was passed when a 1d array was expected. Please change the shape of y to (n_samples, ), for example using ravel().\n",
            "  y = column_or_1d(y, warn=True)\n",
            "/usr/local/lib/python3.6/dist-packages/sklearn/utils/validation.py:724: DataConversionWarning: A column-vector y was passed when a 1d array was expected. Please change the shape of y to (n_samples, ), for example using ravel().\n",
            "  y = column_or_1d(y, warn=True)\n",
            "/usr/local/lib/python3.6/dist-packages/sklearn/utils/validation.py:724: DataConversionWarning: A column-vector y was passed when a 1d array was expected. Please change the shape of y to (n_samples, ), for example using ravel().\n",
            "  y = column_or_1d(y, warn=True)\n",
            "/usr/local/lib/python3.6/dist-packages/sklearn/utils/validation.py:724: DataConversionWarning: A column-vector y was passed when a 1d array was expected. Please change the shape of y to (n_samples, ), for example using ravel().\n",
            "  y = column_or_1d(y, warn=True)\n",
            "/usr/local/lib/python3.6/dist-packages/sklearn/utils/validation.py:724: DataConversionWarning: A column-vector y was passed when a 1d array was expected. Please change the shape of y to (n_samples, ), for example using ravel().\n",
            "  y = column_or_1d(y, warn=True)\n",
            "/usr/local/lib/python3.6/dist-packages/sklearn/utils/validation.py:724: DataConversionWarning: A column-vector y was passed when a 1d array was expected. Please change the shape of y to (n_samples, ), for example using ravel().\n",
            "  y = column_or_1d(y, warn=True)\n",
            "/usr/local/lib/python3.6/dist-packages/sklearn/utils/validation.py:724: DataConversionWarning: A column-vector y was passed when a 1d array was expected. Please change the shape of y to (n_samples, ), for example using ravel().\n",
            "  y = column_or_1d(y, warn=True)\n",
            "/usr/local/lib/python3.6/dist-packages/sklearn/utils/validation.py:724: DataConversionWarning: A column-vector y was passed when a 1d array was expected. Please change the shape of y to (n_samples, ), for example using ravel().\n",
            "  y = column_or_1d(y, warn=True)\n",
            "/usr/local/lib/python3.6/dist-packages/sklearn/utils/validation.py:724: DataConversionWarning: A column-vector y was passed when a 1d array was expected. Please change the shape of y to (n_samples, ), for example using ravel().\n",
            "  y = column_or_1d(y, warn=True)\n",
            "/usr/local/lib/python3.6/dist-packages/sklearn/utils/validation.py:724: DataConversionWarning: A column-vector y was passed when a 1d array was expected. Please change the shape of y to (n_samples, ), for example using ravel().\n",
            "  y = column_or_1d(y, warn=True)\n",
            "/usr/local/lib/python3.6/dist-packages/sklearn/utils/validation.py:724: DataConversionWarning: A column-vector y was passed when a 1d array was expected. Please change the shape of y to (n_samples, ), for example using ravel().\n",
            "  y = column_or_1d(y, warn=True)\n",
            "/usr/local/lib/python3.6/dist-packages/sklearn/utils/validation.py:724: DataConversionWarning: A column-vector y was passed when a 1d array was expected. Please change the shape of y to (n_samples, ), for example using ravel().\n",
            "  y = column_or_1d(y, warn=True)\n",
            "/usr/local/lib/python3.6/dist-packages/sklearn/utils/validation.py:724: DataConversionWarning: A column-vector y was passed when a 1d array was expected. Please change the shape of y to (n_samples, ), for example using ravel().\n",
            "  y = column_or_1d(y, warn=True)\n"
          ],
          "name": "stderr"
        },
        {
          "output_type": "execute_result",
          "data": {
            "text/plain": [
              "GridSearchCV(cv='warn', error_score='raise-deprecating',\n",
              "             estimator=SVC(C=1.0, cache_size=200, class_weight=None, coef0=0.0,\n",
              "                           decision_function_shape='ovr', degree=3,\n",
              "                           gamma='auto_deprecated', kernel='rbf', max_iter=-1,\n",
              "                           probability=True, random_state=None, shrinking=True,\n",
              "                           tol=0.001, verbose=False),\n",
              "             iid='warn', n_jobs=None,\n",
              "             param_grid={'C': [1.0, 0.001, 0.01],\n",
              "                         'gamma': ['auto', 'scale', 1.0, 0.001, 0.01]},\n",
              "             pre_dispatch='2*n_jobs', refit=True, return_train_score=False,\n",
              "             scoring=None, verbose=0)"
            ]
          },
          "metadata": {
            "tags": []
          },
          "execution_count": 918
        }
      ]
    },
    {
      "cell_type": "markdown",
      "metadata": {
        "id": "00JEVFfE5Wz3",
        "colab_type": "text"
      },
      "source": [
        "# Test Prediction"
      ]
    },
    {
      "cell_type": "code",
      "metadata": {
        "id": "XspTbljF5MTg",
        "colab_type": "code",
        "colab": {}
      },
      "source": [
        "# Isolate Transaction ID\n",
        "test_df_tranID = test_df[['TransactionId']]\n",
        "\n",
        "# Pre Processing on Test\n",
        "\n",
        "string2blank(test_df,'BatchId','BatchId_')\n",
        "string2blank(test_df,'AccountId','AccountId_')\n",
        "string2blank(test_df,'SubscriptionId','SubscriptionId_')\n",
        "string2blank(test_df,'CustomerId','CustomerId_')\n",
        "test_df.drop(test_df[['CurrencyCode','CountryCode']],axis=1,inplace=True)\n",
        "test_df_dummies = pd.get_dummies(test_df[['ProviderId','ProductId','ProductCategory','ChannelId','PricingStrategy']],prefix='dm',dtype=int)\n",
        "test_df = test_df.join(test_df_dummies,how='left',lsuffix='d')\n",
        "test_df.drop(test_df[['ProviderId','ProductId','ProductCategory','ChannelId','PricingStrategy']],axis=1,inplace=True)\n",
        "test_df.drop(test_df[['TransactionId','BatchId']],axis=1,inplace=True)\n",
        "test_df['date'] = test_df['TransactionStartTime'].apply(lambda x: dt.strptime(x[0:10],'%Y-%m-%d') )\n",
        "test_df['time'] = test_df['TransactionStartTime'].apply(lambda x: dt.strptime(x[-9:-2],'%H:%M:%S') )\n",
        "test_df['weekday'] = test_df['date'].apply(lambda x: dt.weekday(x))\n",
        "test_df.drop(test_df[['TransactionStartTime']],axis=1,inplace=True)\n",
        "test_df.drop(test_df[['date','time']],axis=1,inplace=True)\n"
      ],
      "execution_count": 0,
      "outputs": []
    },
    {
      "cell_type": "markdown",
      "metadata": {
        "id": "FqV-G2SVjHMr",
        "colab_type": "text"
      },
      "source": [
        ""
      ]
    },
    {
      "cell_type": "code",
      "metadata": {
        "id": "iUpXeXU16nVA",
        "colab_type": "code",
        "colab": {}
      },
      "source": [
        "# # Logistic Regression Output Performs worse than SVM (Scrapped)\n",
        "# answer = logistic_reg.predict_proba(test_df)\n",
        "# answer = np.where(answer[:,1] > 0.99, 1, 0)\n",
        "# answer = pd.DataFrame(answer)\n",
        "# test_df_tranID = test_df_tranID.join(answer,how='left')\n",
        "# test_df_tranID.rename(columns={0:'FraudResult'}, inplace=True)\n",
        "# test_df_tranID.to_csv('answer.csv',index = False)\n",
        "# files.download('answer.csv')\n",
        "\n",
        "# SVM Output\n",
        "answer = clf_mind.predict(test_df)\n",
        "answer = np.where(answer[:] > 0.90, 1, 0)\n",
        "answer = pd.DataFrame(answer)\n",
        "test_df_tranID = test_df_tranID.join(answer,how='left')\n",
        "test_df_tranID.rename(columns={0:'FraudResult'}, inplace=True)\n",
        "test_df_tranID.to_csv('answer.csv',index = False)\n",
        "files.download('answer.csv')"
      ],
      "execution_count": 0,
      "outputs": []
    },
    {
      "cell_type": "markdown",
      "metadata": {
        "id": "Oja-MIm5j7yo",
        "colab_type": "text"
      },
      "source": [
        "#Conclusion"
      ]
    },
    {
      "cell_type": "markdown",
      "metadata": {
        "id": "w01bEm48j-3n",
        "colab_type": "text"
      },
      "source": [
        "Unfortunitly time caught up to me. \n",
        "\n",
        "What I would have liked to have done in addition:\n",
        "\n",
        "\n",
        "*   Extract Day of Week as a feature. \n",
        "*   Extract time of day as feature. \n",
        "*   Tested a few additional models. \n",
        "*   Trained model on more data.\n",
        "\n",
        "Ultimately the best performing classification model that I used was the Suport Vector Machine, letting the Gridsearch facility dictate the hyperparameters between given intervals. \n",
        "\n"
      ]
    }
  ]
}